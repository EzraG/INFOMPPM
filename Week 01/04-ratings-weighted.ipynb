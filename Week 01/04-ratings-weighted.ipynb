{
 "cells": [
  {
   "attachments": {},
   "cell_type": "markdown",
   "metadata": {},
   "source": [
    "# 📚 Recommendations based on weighted ratings\n",
    "Considering the drawbacks of using average ratings, you will now develop recommendations based on the weighted average for each book. Refer to the article [Building a Recommendation System using weighted-average score](https://medium.com/@developeraritro/building-a-recommendation-system-using-weighted-hybrid-technique-75598b6be8ed) to understand and apply this concept.\n"
   ]
  },
  {
   "cell_type": "markdown",
   "metadata": {},
   "source": [
    "### 1. Calculate Weightage Average for Individual books average rating\n",
    "Determine the mean vote value (C) for the entire dataset.\n"
   ]
  },
  {
   "cell_type": "code",
   "execution_count": 4,
   "metadata": {},
   "outputs": [
    {
     "data": {
      "text/html": [
       "<div>\n",
       "<style scoped>\n",
       "    .dataframe tbody tr th:only-of-type {\n",
       "        vertical-align: middle;\n",
       "    }\n",
       "\n",
       "    .dataframe tbody tr th {\n",
       "        vertical-align: top;\n",
       "    }\n",
       "\n",
       "    .dataframe thead th {\n",
       "        text-align: right;\n",
       "    }\n",
       "</style>\n",
       "<table border=\"1\" class=\"dataframe\">\n",
       "  <thead>\n",
       "    <tr style=\"text-align: right;\">\n",
       "      <th></th>\n",
       "      <th>ISBN</th>\n",
       "      <th>count</th>\n",
       "      <th>mean</th>\n",
       "      <th>weight</th>\n",
       "    </tr>\n",
       "  </thead>\n",
       "  <tbody>\n",
       "    <tr>\n",
       "      <th>0</th>\n",
       "      <td>000649840X</td>\n",
       "      <td>14</td>\n",
       "      <td>7.214286</td>\n",
       "      <td>7.259267</td>\n",
       "    </tr>\n",
       "    <tr>\n",
       "      <th>1</th>\n",
       "      <td>0007110928</td>\n",
       "      <td>7</td>\n",
       "      <td>7.857143</td>\n",
       "      <td>7.861126</td>\n",
       "    </tr>\n",
       "    <tr>\n",
       "      <th>2</th>\n",
       "      <td>0020199600</td>\n",
       "      <td>16</td>\n",
       "      <td>8.062500</td>\n",
       "      <td>8.052295</td>\n",
       "    </tr>\n",
       "    <tr>\n",
       "      <th>3</th>\n",
       "      <td>0020442203</td>\n",
       "      <td>16</td>\n",
       "      <td>8.875000</td>\n",
       "      <td>8.817000</td>\n",
       "    </tr>\n",
       "    <tr>\n",
       "      <th>4</th>\n",
       "      <td>002542730X</td>\n",
       "      <td>47</td>\n",
       "      <td>7.553191</td>\n",
       "      <td>7.560188</td>\n",
       "    </tr>\n",
       "    <tr>\n",
       "      <th>...</th>\n",
       "      <td>...</td>\n",
       "      <td>...</td>\n",
       "      <td>...</td>\n",
       "      <td>...</td>\n",
       "    </tr>\n",
       "    <tr>\n",
       "      <th>2172</th>\n",
       "      <td>8445071416</td>\n",
       "      <td>6</td>\n",
       "      <td>8.500000</td>\n",
       "      <td>8.412715</td>\n",
       "    </tr>\n",
       "    <tr>\n",
       "      <th>2173</th>\n",
       "      <td>8495618605</td>\n",
       "      <td>1</td>\n",
       "      <td>3.000000</td>\n",
       "      <td>5.444504</td>\n",
       "    </tr>\n",
       "    <tr>\n",
       "      <th>2174</th>\n",
       "      <td>8806142100</td>\n",
       "      <td>2</td>\n",
       "      <td>8.000000</td>\n",
       "      <td>7.963003</td>\n",
       "    </tr>\n",
       "    <tr>\n",
       "      <th>2175</th>\n",
       "      <td>8807813025</td>\n",
       "      <td>1</td>\n",
       "      <td>9.000000</td>\n",
       "      <td>8.444504</td>\n",
       "    </tr>\n",
       "    <tr>\n",
       "      <th>2176</th>\n",
       "      <td>8873122933</td>\n",
       "      <td>1</td>\n",
       "      <td>7.000000</td>\n",
       "      <td>7.444504</td>\n",
       "    </tr>\n",
       "  </tbody>\n",
       "</table>\n",
       "<p>2177 rows × 4 columns</p>\n",
       "</div>"
      ],
      "text/plain": [
       "            ISBN  count      mean    weight\n",
       "0     000649840X     14  7.214286  7.259267\n",
       "1     0007110928      7  7.857143  7.861126\n",
       "2     0020199600     16  8.062500  8.052295\n",
       "3     0020442203     16  8.875000  8.817000\n",
       "4     002542730X     47  7.553191  7.560188\n",
       "...          ...    ...       ...       ...\n",
       "2172  8445071416      6  8.500000  8.412715\n",
       "2173  8495618605      1  3.000000  5.444504\n",
       "2174  8806142100      2  8.000000  7.963003\n",
       "2175  8807813025      1  9.000000  8.444504\n",
       "2176  8873122933      1  7.000000  7.444504\n",
       "\n",
       "[2177 rows x 4 columns]"
      ]
     },
     "execution_count": 4,
     "metadata": {},
     "output_type": "execute_result"
    }
   ],
   "source": [
    "import pandas as pd\n",
    "df = pd.read_csv('data/BX-Book-Ratings-Subset.csv', sep=';', encoding='latin-1')\n",
    "C = df['Book-Rating'].mean()\n",
    "\n",
    "df = df.groupby('ISBN')['Book-Rating'].agg(['count', 'mean']).reset_index()\n",
    "\n",
    "def weighted_avg(row):\n",
    "    return (row['mean'] * row['count'] + C) / (row['count'] + 1)\n",
    "\n",
    "df['weight'] = df.apply(weighted_avg, axis=1)\n",
    "df"
   ]
  },
  {
   "cell_type": "markdown",
   "metadata": {},
   "source": [
    "### 2. Save the recommendations\n",
    "Choose the top 10 books based on their weighted ratings and save these recommendations as `recommendations-ratings-weight.csv`. Then, update the app directory by replacing the existing file. Ensure the file includes the columns: `ISBN;weight`."
   ]
  },
  {
   "cell_type": "code",
   "execution_count": 6,
   "metadata": {},
   "outputs": [],
   "source": [
    "df = df.sort_values(by=\"weight\", ascending=False)\n",
    "df = df[['ISBN', 'weight']].head(10)\n",
    "df.to_csv('app/recommendations/recommendations-ratings-weight.csv', index=False, sep=';')"
   ]
  },
  {
   "cell_type": "markdown",
   "metadata": {},
   "source": [
    "### 3. Compare recommendations based on average rating and weighted ratings\n",
    "Review the interface to note any significant differences with this method."
   ]
  }
 ],
 "metadata": {
  "interpreter": {
   "hash": "37c10f95d263926787ebf1d430d11186fc6b9bac835b8518e0b5006ed24f0c36"
  },
  "kernelspec": {
   "display_name": "Python 3.8.0 64-bit",
   "language": "python",
   "name": "python3"
  },
  "language_info": {
   "codemirror_mode": {
    "name": "ipython",
    "version": 3
   },
   "file_extension": ".py",
   "mimetype": "text/x-python",
   "name": "python",
   "nbconvert_exporter": "python",
   "pygments_lexer": "ipython3",
   "version": "3.9.7"
  },
  "orig_nbformat": 4
 },
 "nbformat": 4,
 "nbformat_minor": 2
}
